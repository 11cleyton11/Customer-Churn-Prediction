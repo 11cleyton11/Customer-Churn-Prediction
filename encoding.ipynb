{
 "cells": [
  {
   "cell_type": "code",
   "execution_count": 2,
   "id": "6d77593a-af3b-422c-88fe-bb0ef9eca99a",
   "metadata": {},
   "outputs": [],
   "source": [
    "import pandas as pd\n",
    "data = pd.read_csv('data/cleaned_telco_churn.csv')"
   ]
  },
  {
   "cell_type": "code",
   "execution_count": 3,
   "id": "1c89981a-aa6d-42da-9b51-f65a59821019",
   "metadata": {},
   "outputs": [
    {
     "name": "stdout",
     "output_type": "stream",
     "text": [
      "Index(['gender', 'Partner', 'Dependents', 'PhoneService', 'MultipleLines',\n",
      "       'InternetService', 'OnlineSecurity', 'OnlineBackup', 'DeviceProtection',\n",
      "       'TechSupport', 'StreamingTV', 'StreamingMovies', 'Contract',\n",
      "       'PaperlessBilling', 'PaymentMethod', 'Churn'],\n",
      "      dtype='object')\n"
     ]
    }
   ],
   "source": [
    "categorical_cols = data.select_dtypes(include=['object']).columns\n",
    "print(categorical_cols)"
   ]
  },
  {
   "cell_type": "code",
   "execution_count": 4,
   "id": "4a6534d0-407c-4696-84a6-bf463115a96b",
   "metadata": {},
   "outputs": [],
   "source": [
    "binary_cols = ['gender', 'Partner', 'Dependents', 'PhoneService', 'PaperlessBilling', 'Churn']\n",
    "mappings = {\n",
    "    'gender': {'Male': 0, 'Female': 1},\n",
    "    'Partner': {'No': 0, 'Yes': 1},\n",
    "    'Dependents': {'No': 0, 'Yes': 1},\n",
    "    'PhoneService': {'No': 0, 'Yes': 1},\n",
    "    'PaperlessBilling': {'No': 0, 'Yes': 1},\n",
    "    'Churn': {'No': 0, 'Yes': 1}\n",
    "}\n",
    "for col, mapping in mappings.items():\n",
    "    data[col] = data[col].map(mapping)"
   ]
  },
  {
   "cell_type": "code",
   "execution_count": 5,
   "id": "156d0004-7693-47fa-ad9b-07e96a36da56",
   "metadata": {},
   "outputs": [],
   "source": [
    "multi_cols = ['MultipleLines', 'InternetService', 'OnlineSecurity', 'OnlineBackup', \n",
    "              'DeviceProtection', 'TechSupport', 'StreamingTV', 'StreamingMovies', \n",
    "              'Contract', 'PaymentMethod']\n",
    "data = pd.get_dummies(data, columns=multi_cols, prefix=multi_cols, drop_first=True)"
   ]
  },
  {
   "cell_type": "code",
   "execution_count": 6,
   "id": "053f8412-1e66-45d2-9c46-c3c8b7848f15",
   "metadata": {},
   "outputs": [
    {
     "name": "stdout",
     "output_type": "stream",
     "text": [
      "   gender  SeniorCitizen  Partner  Dependents  tenure  PhoneService  \\\n",
      "0       1              0        1           0       1             0   \n",
      "1       0              0        0           0      34             1   \n",
      "2       0              0        0           0       2             1   \n",
      "3       0              0        0           0      45             0   \n",
      "4       1              0        0           0       2             1   \n",
      "\n",
      "   PaperlessBilling  MonthlyCharges  TotalCharges  Churn  ...  \\\n",
      "0                 1           29.85         29.85      0  ...   \n",
      "1                 0           56.95       1889.50      0  ...   \n",
      "2                 1           53.85        108.15      1  ...   \n",
      "3                 0           42.30       1840.75      0  ...   \n",
      "4                 1           70.70        151.65      1  ...   \n",
      "\n",
      "   TechSupport_Yes  StreamingTV_No internet service  StreamingTV_Yes  \\\n",
      "0            False                            False            False   \n",
      "1            False                            False            False   \n",
      "2            False                            False            False   \n",
      "3             True                            False            False   \n",
      "4            False                            False            False   \n",
      "\n",
      "   StreamingMovies_No internet service  StreamingMovies_Yes  \\\n",
      "0                                False                False   \n",
      "1                                False                False   \n",
      "2                                False                False   \n",
      "3                                False                False   \n",
      "4                                False                False   \n",
      "\n",
      "   Contract_One year  Contract_Two year  \\\n",
      "0              False              False   \n",
      "1               True              False   \n",
      "2              False              False   \n",
      "3               True              False   \n",
      "4              False              False   \n",
      "\n",
      "   PaymentMethod_Credit card (automatic)  PaymentMethod_Electronic check  \\\n",
      "0                                  False                            True   \n",
      "1                                  False                           False   \n",
      "2                                  False                           False   \n",
      "3                                  False                           False   \n",
      "4                                  False                            True   \n",
      "\n",
      "   PaymentMethod_Mailed check  \n",
      "0                       False  \n",
      "1                        True  \n",
      "2                        True  \n",
      "3                       False  \n",
      "4                       False  \n",
      "\n",
      "[5 rows x 31 columns]\n"
     ]
    }
   ],
   "source": [
    "print(data.head())"
   ]
  },
  {
   "cell_type": "code",
   "execution_count": 7,
   "id": "5813ce3e-7191-44e0-8deb-a57cbab1bfd6",
   "metadata": {},
   "outputs": [],
   "source": [
    "data.to_csv('data/encoded_telco_churn.csv', index=False)"
   ]
  },
  {
   "cell_type": "markdown",
   "id": "29e20905-8373-43d5-8107-a3df9ec9d6c3",
   "metadata": {},
   "source": [
    "## Encoding\n",
    "- Encoded binary features (e.g., gender) and multi-class features (e.g., Contract), creating ~30 features."
   ]
  },
  {
   "cell_type": "code",
   "execution_count": null,
   "id": "23929043-c897-421e-be7d-89c4f5cabf8a",
   "metadata": {},
   "outputs": [],
   "source": []
  }
 ],
 "metadata": {
  "kernelspec": {
   "display_name": "Python 3 (ipykernel)",
   "language": "python",
   "name": "python3"
  },
  "language_info": {
   "codemirror_mode": {
    "name": "ipython",
    "version": 3
   },
   "file_extension": ".py",
   "mimetype": "text/x-python",
   "name": "python",
   "nbconvert_exporter": "python",
   "pygments_lexer": "ipython3",
   "version": "3.13.3"
  }
 },
 "nbformat": 4,
 "nbformat_minor": 5
}
